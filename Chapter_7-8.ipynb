{
 "cells": [
  {
   "cell_type": "code",
   "execution_count": 9,
   "id": "868b2c03",
   "metadata": {},
   "outputs": [
    {
     "name": "stdout",
     "output_type": "stream",
     "text": [
      "My third birthday was in 2009!\n"
     ]
    }
   ],
   "source": [
    "years_list = [2006, 2007, 2008, 2009, 2010, 2011]\n",
    "print(f\"My third birthday was in {years_list[3]}!\")\n",
    "print(f\"I was the oldest in {years_list[5]}!\")"
   ]
  },
  {
   "cell_type": "code",
   "execution_count": 22,
   "id": "17bf9db6",
   "metadata": {},
   "outputs": [
    {
     "name": "stdout",
     "output_type": "stream",
     "text": [
      "['mozzarella', 'Cinderella', 'salmonella']\n",
      "['Mozzarella', 'Cinderella', 'salmonella']\n",
      "['Mozzarella', 'Cinderella']\n"
     ]
    }
   ],
   "source": [
    "things = [\"mozzarella\", \"cinderella\", \"salmonella\"]\n",
    "things[1] = things[1].title()\n",
    "print(things)\n",
    "things[0] = things[0].title()\n",
    "print(things)\n",
    "things.remove(\"salmonella\")\n",
    "print(things)"
   ]
  },
  {
   "cell_type": "markdown",
   "id": "099ee869",
   "metadata": {},
   "source": [
    "The elements were changed in the list!"
   ]
  },
  {
   "cell_type": "code",
   "execution_count": 23,
   "id": "bdfd646e",
   "metadata": {},
   "outputs": [
    {
     "name": "stdout",
     "output_type": "stream",
     "text": [
      "['Groucho', 'Chico', 'oprah']\n"
     ]
    }
   ],
   "source": [
    "surprise = [\"Groucho\", \"Chico\", \"Harpo\"]\n",
    "surprise[2] = surprise[2].lower()\n",
    "surprise[2] = surprise[2][::-1]\n",
    "print(surprise)"
   ]
  },
  {
   "cell_type": "code",
   "execution_count": 2,
   "id": "f83a63f9",
   "metadata": {
    "scrolled": true
   },
   "outputs": [
    {
     "name": "stdout",
     "output_type": "stream",
     "text": [
      "[2, 4, 6, 8]\n"
     ]
    }
   ],
   "source": [
    "even = [x for x in range(10) if x % 2 == 0 and x != 0]\n",
    "print(even)"
   ]
  },
  {
   "cell_type": "code",
   "execution_count": 5,
   "id": "1ff906b7",
   "metadata": {},
   "outputs": [
    {
     "name": "stdout",
     "output_type": "stream",
     "text": [
      "Fee! Fie! Foe! Flop!\n",
      "Someone better get a mop.\n",
      "Fee! Fie! Foe! Fope!\n",
      "Someone better turn the rope.\n",
      "Fee! Fie! Foe! Fa!\n",
      "Someone better get your ma.\n",
      "Fee! Fie! Foe! Fudge!\n",
      "Someone better call the judge.\n",
      "Fee! Fie! Foe! Fat!\n",
      "Someone better pet the cat.\n",
      "Fee! Fie! Foe! Fog!\n",
      "Someone better walk the dog.\n",
      "Fee! Fie! Foe! Fun!\n",
      "Someone better say we're done.\n"
     ]
    }
   ],
   "source": [
    "start1 = [\"fee\", \"fie\", \"foe\"]\n",
    "rhymes = [\n",
    " (\"flop\", \"get a mop\"),\n",
    " (\"fope\", \"turn the rope\"),\n",
    " (\"fa\", \"get your ma\"),\n",
    " (\"fudge\", \"call the judge\"),\n",
    " (\"fat\", \"pet the cat\"),\n",
    " (\"fog\", \"walk the dog\"),\n",
    " (\"fun\", \"say we're done\"),\n",
    " ]\n",
    "start2 = \"Someone better\"\n",
    "\n",
    "for tup in rhymes:\n",
    "    print(start1[0].title() + \"!\", start1[1].title() + \"!\", start1[2].title() + \"!\", tup[0].title() + \"!\")\n",
    "    print(start2, tup[1] + \".\")\n",
    "    "
   ]
  },
  {
   "cell_type": "code",
   "execution_count": 6,
   "id": "2ac3775b",
   "metadata": {},
   "outputs": [
    {
     "data": {
      "text/plain": [
       "['Harry', 'Ron', 'Hermione']"
      ]
     },
     "execution_count": 6,
     "metadata": {},
     "output_type": "execute_result"
    }
   ],
   "source": [
    "def good():\n",
    "    return [\"Harry\", \"Ron\", \"Hermione\"]\n",
    "good()"
   ]
  },
  {
   "cell_type": "code",
   "execution_count": 14,
   "id": "a32a9fa9",
   "metadata": {},
   "outputs": [
    {
     "name": "stdout",
     "output_type": "stream",
     "text": [
      "5\n"
     ]
    }
   ],
   "source": [
    "def get_odds():\n",
    "    return [x for x in range(10) if x % 2 != 0]\n",
    "test_list = get_odds()\n",
    "for number in test_list:\n",
    "    if test_list[2] == number:\n",
    "        print(number)"
   ]
  }
 ],
 "metadata": {
  "kernelspec": {
   "display_name": "Python 3 (ipykernel)",
   "language": "python",
   "name": "python3"
  },
  "language_info": {
   "codemirror_mode": {
    "name": "ipython",
    "version": 3
   },
   "file_extension": ".py",
   "mimetype": "text/x-python",
   "name": "python",
   "nbconvert_exporter": "python",
   "pygments_lexer": "ipython3",
   "version": "3.11.5"
  }
 },
 "nbformat": 4,
 "nbformat_minor": 5
}

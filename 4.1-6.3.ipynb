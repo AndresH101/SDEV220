{
 "cells": [
  {
   "cell_type": "code",
   "execution_count": 37,
   "id": "c705a430",
   "metadata": {},
   "outputs": [
    {
     "name": "stdout",
     "output_type": "stream",
     "text": [
      "Too high!\n"
     ]
    }
   ],
   "source": [
    "secret = 4\n",
    "guess = 5\n",
    "if guess < secret:\n",
    "    print(\"Too low!\")\n",
    "elif guess > secret:\n",
    "    print(\"Too high!\")\n",
    "else:\n",
    "    print(\"Just right!\")"
   ]
  },
  {
   "cell_type": "code",
   "execution_count": 51,
   "id": "2435efcd",
   "metadata": {},
   "outputs": [
    {
     "name": "stdout",
     "output_type": "stream",
     "text": [
      "Pea\n"
     ]
    }
   ],
   "source": [
    "small = True\n",
    "green = True\n",
    "if small == True and green == True:\n",
    "    print(\"Pea\")\n",
    "elif small == True and green == False:\n",
    "    print(\"Cherry\")\n",
    "elif small == False and green == False:\n",
    "    print(\"Pumpkin\")\n",
    "elif small == False and green == True:\n",
    "    print(\"Watermelon\")"
   ]
  },
  {
   "cell_type": "code",
   "execution_count": 54,
   "id": "a69369f3",
   "metadata": {},
   "outputs": [
    {
     "name": "stdout",
     "output_type": "stream",
     "text": [
      "3\n",
      "2\n",
      "1\n",
      "0\n"
     ]
    }
   ],
   "source": [
    "numbers = [3, 2, 1, 0]\n",
    "for number in numbers:\n",
    "    print(number)"
   ]
  },
  {
   "cell_type": "code",
   "execution_count": 66,
   "id": "4063cf0d",
   "metadata": {},
   "outputs": [
    {
     "name": "stdout",
     "output_type": "stream",
     "text": [
      "Too low!\n",
      "Too low!\n",
      "Too low!\n",
      "Too low!\n",
      "Too low!\n",
      "Too low!\n",
      "Just right!\n"
     ]
    }
   ],
   "source": [
    "guess_me = 7\n",
    "number = 1\n",
    "while number < guess_me:\n",
    "    print(\"Too low!\")\n",
    "    number += 1\n",
    "else:\n",
    "    if number == guess_me:\n",
    "        print(\"Found it!\")\n",
    "        break\n",
    "    else:\n",
    "        print(\"Oops!\")\n",
    "        break"
   ]
  },
  {
   "cell_type": "code",
   "execution_count": 4,
   "id": "48e31d72",
   "metadata": {},
   "outputs": [
    {
     "name": "stdout",
     "output_type": "stream",
     "text": [
      "Too Low!\n",
      "Too Low!\n",
      "Too Low!\n",
      "Too Low!\n",
      "Too Low!\n",
      "Found it!\n"
     ]
    }
   ],
   "source": [
    "guess_me = 5\n",
    "for number in range(10):\n",
    "    if number < guess_me:\n",
    "        print(\"Too Low!\")\n",
    "    elif number == guess_me:\n",
    "        print(\"Found it!\")\n",
    "        break\n",
    "    else:\n",
    "        print(\"Oops!\")\n",
    "        break"
   ]
  }
 ],
 "metadata": {
  "kernelspec": {
   "display_name": "Python 3 (ipykernel)",
   "language": "python",
   "name": "python3"
  },
  "language_info": {
   "codemirror_mode": {
    "name": "ipython",
    "version": 3
   },
   "file_extension": ".py",
   "mimetype": "text/x-python",
   "name": "python",
   "nbconvert_exporter": "python",
   "pygments_lexer": "ipython3",
   "version": "3.11.5"
  }
 },
 "nbformat": 4,
 "nbformat_minor": 5
}
